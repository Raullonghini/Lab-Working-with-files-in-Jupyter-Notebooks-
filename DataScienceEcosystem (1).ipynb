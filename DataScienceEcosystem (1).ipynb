{
 "cells": [
  {
   "cell_type": "markdown",
   "id": "dc6e8dee-fdbc-4cc5-be23-a0d42cf75c78",
   "metadata": {},
   "source": [
    "# Data Science Tools and Ecosystem"
   ]
  },
  {
   "cell_type": "markdown",
   "id": "3dcbd0fe-bc41-4172-8fd1-041a888f98db",
   "metadata": {},
   "source": [
    "In this notebook, Data Science Tools and Ecosystem are summarized."
   ]
  },
  {
   "cell_type": "markdown",
   "id": "e90efae1-645b-48dc-831e-eb850b87d5ff",
   "metadata": {},
   "source": [
    "**Objectives**\n",
    "- List Popular Langguages for Data Science \n",
    "- Summarize commonly libraries in Data Science \n",
    "- Table about Data Science Tools \n",
    "- Demostrate arithimetic operations in Python \n",
    "- Convert minutes to hours using Python\n"
   ]
  },
  {
   "cell_type": "markdown",
   "id": "c0d2e499-65d1-44c5-861f-a592fca80208",
   "metadata": {},
   "source": [
    "Some of the popular languages that Data Scientists use are:"
   ]
  },
  {
   "cell_type": "markdown",
   "id": "be1fed92-aab8-49bc-902f-dbdfd942043d",
   "metadata": {},
   "source": [
    "1. Python\n",
    "2. R.\n",
    "3. SQL\n",
    "4. JAVA\n",
    "5. Julia "
   ]
  },
  {
   "cell_type": "markdown",
   "id": "3610a9ec-ce9c-4f56-a529-6a472f1bb966",
   "metadata": {},
   "source": [
    "Some of the commonly used libraries used by Data Scientists include:"
   ]
  },
  {
   "cell_type": "markdown",
   "id": "bb8604a0-0c87-45f7-855c-666eb4ca08e6",
   "metadata": {},
   "source": [
    "1. TensorFlow.\n",
    "2. NumPy.\n",
    "3. SciPy.\n",
    "4. Panda.\n",
    "5. Matplotlib. "
   ]
  },
  {
   "cell_type": "markdown",
   "id": "5b5c4f1b-3caa-4e63-b715-7f03573edbb0",
   "metadata": {},
   "source": [
    "| Data Science |\n",
    "|--------------|\n",
    "| Apache Spark | \n",
    "| Big ML | \n",
    "| Jupyter Notebook |"
   ]
  },
  {
   "cell_type": "markdown",
   "id": "16632171-4988-4ab5-9f86-d9417b0f59d6",
   "metadata": {},
   "source": [
    "### Below are a few examples of evaluating arithmetic expressions in Python"
   ]
  },
  {
   "cell_type": "code",
   "execution_count": 13,
   "id": "488aeae6-d2de-4eef-b5cb-858948de6886",
   "metadata": {},
   "outputs": [
    {
     "data": {
      "text/plain": [
       "17"
      ]
     },
     "execution_count": 13,
     "metadata": {},
     "output_type": "execute_result"
    }
   ],
   "source": [
    "(3*4)+5"
   ]
  },
  {
   "cell_type": "code",
   "execution_count": 20,
   "id": "7a53a799-3bdd-4e81-8921-9784274fc545",
   "metadata": {},
   "outputs": [
    {
     "data": {
      "text/plain": [
       "3.3333333333333335"
      ]
     },
     "execution_count": 20,
     "metadata": {},
     "output_type": "execute_result"
    }
   ],
   "source": [
    "# This Will convert 200 minutes to hours by dividing by 60 \n",
    "minutes=200\n",
    "hours = minutes/60 \n",
    "hours"
   ]
  },
  {
   "cell_type": "markdown",
   "id": "50326cde-e927-46d8-9544-396fcdcc32fa",
   "metadata": {},
   "source": [
    "## Author: \n",
    "Raul Longhini"
   ]
  },
  {
   "cell_type": "code",
   "execution_count": null,
   "id": "05255378-a85f-4f19-9cf0-cf0dc3341c58",
   "metadata": {},
   "outputs": [],
   "source": []
  }
 ],
 "metadata": {
  "kernelspec": {
   "display_name": "Python 3 (ipykernel)",
   "language": "python",
   "name": "python3"
  },
  "language_info": {
   "codemirror_mode": {
    "name": "ipython",
    "version": 3
   },
   "file_extension": ".py",
   "mimetype": "text/x-python",
   "name": "python",
   "nbconvert_exporter": "python",
   "pygments_lexer": "ipython3",
   "version": "3.12.7"
  }
 },
 "nbformat": 4,
 "nbformat_minor": 5
}
